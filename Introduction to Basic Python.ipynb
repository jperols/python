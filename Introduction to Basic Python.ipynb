{
 "cells": [
  {
   "cell_type": "markdown",
   "metadata": {},
   "source": [
    "## Introduction to Python\n",
    "---  \n",
    "### Table of Contents\n",
    "  - Getting Started (Hello World)\n",
    "  - [Variables](#Variables)\n",
    "  - [Data Structures](#Data-Structures)\n",
    "    - [sequence data](#Sequence-Data-(lists-and-strings))\n",
    "      - indexing, slicing, and stride\n",
    "      - other list and string methods\n",
    "    - [data dictionaries](#Data-Dictionaries)\n",
    "  - [Operators](#Operators)\n",
    "    - [arithmetic operators](#Arithmetic-Operators)\n",
    "    - [conditional operators](#Comparison-Operators)\n",
    "    - [logical operators](#Logical-Operators) and short circuit evaluation\n",
    "  - [Control Flow](#Control-Flow)\n",
    "    - [if, elif, else](#if,-elif,-else)\n",
    "    - [for loops](#For-Loops)\n",
    "  - [Functions, Standard Libraries, and Packages and Modules](#Functions,-Standard-Libraries,-and-Packages-and-Modules)"
   ]
  },
  {
   "cell_type": "markdown",
   "metadata": {},
   "source": [
    "---  \n",
    "### Getting Started\n",
    "The first thing to do is of course to print \"Hello World\". (This is not just customary, we also do this to make sure that everything is set up and working correctly). Type the code that you see below into your Python editor (and continue doing so for all the examples):\n"
   ]
  },
  {
   "cell_type": "code",
   "execution_count": 345,
   "metadata": {},
   "outputs": [
    {
     "name": "stdout",
     "output_type": "stream",
     "text": [
      "Hello World\n"
     ]
    }
   ],
   "source": [
    "print('Hello World') # You can use single or double quotations (but try to be consistent)"
   ]
  },
  {
   "cell_type": "markdown",
   "metadata": {},
   "source": [
    "---  \n",
    "### Variables  \n",
    "#### Overview\n",
    "A variable consists of a variable name (identifier) and a storage location that can store a value that can be referenced using the variable name.  When using variables in Python:\n",
    " - There is no need to declare the variables. Simply type:  \n",
    " variable_name = constant\n",
    " - Variable names\n",
    "    - Are case sensitive (use lower case letters and underscores to connect multiple words)\n",
    "    - Can only contain alpha-numeric characters (and underscores)\n",
    "    - Cannot start with numbers\n",
    "    - Variable names that are easy to understand.\n",
    " - Data types\n",
    "    - Variables can store integers, float, Boolean, and strings (a specific variable can change type after it has first been set)\n",
    "    - To find out the data type of the value in a variables use type(variable_name)\n",
    "    - Converting/casting data types using int(), float(), and str(), e.g., int(variable_name).  The table below provides more information about these functions. When casting, the actual data type of the variable is not changed (the casting is not done in-place, i.e., a copy is returned and the original variable is left unmodified).\n",
    "\n",
    "\n",
    "Function | Returns   \n",
    ":------|------|\n",
    "   int()  | an integer from a float (by rounding down to the previous whole number) or a string (if the string represents a whole number)\n",
    "   float()  | a float from an integer or a string (if the string represents a float or an integer)\n",
    "   str()  | a string from a wide variety of data types, including integers and floats\n",
    "  \n",
    "\n",
    "#### Exercises\n",
    "_Exercise 1.1_  \n",
    "Create a new variable named sales and assign the value 57000 to this variable."
   ]
  },
  {
   "cell_type": "code",
   "execution_count": 346,
   "metadata": {},
   "outputs": [
    {
     "name": "stdout",
     "output_type": "stream",
     "text": [
      "57000\n"
     ]
    }
   ],
   "source": [
    "sales = 57000\n",
    "print(sales)                # I am also printing to see the results of my code"
   ]
  },
  {
   "cell_type": "markdown",
   "metadata": {},
   "source": [
    "  "
   ]
  },
  {
   "cell_type": "markdown",
   "metadata": {},
   "source": [
    "_Exercise 1.2_  \n",
    "Variable names are case sensitive. Try printing Sales (notice that sales was not capitalized earlier) "
   ]
  },
  {
   "cell_type": "code",
   "execution_count": 336,
   "metadata": {},
   "outputs": [
    {
     "ename": "NameError",
     "evalue": "name 'Sales' is not defined",
     "output_type": "error",
     "traceback": [
      "\u001b[1;31m---------------------------------------------------------------------------\u001b[0m",
      "\u001b[1;31mNameError\u001b[0m                                 Traceback (most recent call last)",
      "\u001b[1;32m<ipython-input-336-723fbef5acbe>\u001b[0m in \u001b[0;36m<module>\u001b[1;34m\u001b[0m\n\u001b[1;32m----> 1\u001b[1;33m \u001b[0mprint\u001b[0m\u001b[1;33m(\u001b[0m\u001b[0mSales\u001b[0m\u001b[1;33m)\u001b[0m                \u001b[1;31m# This code returns an error because Sales is not defined - we earlier defined sales but not Sales (Python is case sensitive)\u001b[0m\u001b[1;33m\u001b[0m\u001b[1;33m\u001b[0m\u001b[0m\n\u001b[0m",
      "\u001b[1;31mNameError\u001b[0m: name 'Sales' is not defined"
     ]
    }
   ],
   "source": [
    "print(Sales)                # This code returns an error because Sales is not defined - we earlier defined sales but not Sales (Python is case sensitive) "
   ]
  },
  {
   "cell_type": "markdown",
   "metadata": {},
   "source": [
    "  "
   ]
  },
  {
   "cell_type": "markdown",
   "metadata": {},
   "source": [
    "_Exercise 1.3_  \n",
    "a. Create a variable named sales@2012 and set this variable to equal sales."
   ]
  },
  {
   "cell_type": "code",
   "execution_count": 337,
   "metadata": {},
   "outputs": [
    {
     "ename": "SyntaxError",
     "evalue": "can't assign to operator (<ipython-input-337-cdfa30e40ed5>, line 1)",
     "output_type": "error",
     "traceback": [
      "\u001b[1;36m  File \u001b[1;32m\"<ipython-input-337-cdfa30e40ed5>\"\u001b[1;36m, line \u001b[1;32m1\u001b[0m\n\u001b[1;33m    sales@2012 = sales       # This code returns an error because variable names can only contain alpha-numerics and underscores\u001b[0m\n\u001b[1;37m                                                                                                                                ^\u001b[0m\n\u001b[1;31mSyntaxError\u001b[0m\u001b[1;31m:\u001b[0m can't assign to operator\n"
     ]
    }
   ],
   "source": [
    "sales@2012 = sales       # This code returns an error because variable names can only contain alpha-numerics and underscores"
   ]
  },
  {
   "cell_type": "markdown",
   "metadata": {},
   "source": [
    "  "
   ]
  },
  {
   "cell_type": "markdown",
   "metadata": {},
   "source": [
    "  b. Create a variable named 2012sales and set this variable to equal sales."
   ]
  },
  {
   "cell_type": "code",
   "execution_count": 338,
   "metadata": {},
   "outputs": [
    {
     "ename": "SyntaxError",
     "evalue": "invalid syntax (<ipython-input-338-fbf08edb1d23>, line 1)",
     "output_type": "error",
     "traceback": [
      "\u001b[1;36m  File \u001b[1;32m\"<ipython-input-338-fbf08edb1d23>\"\u001b[1;36m, line \u001b[1;32m1\u001b[0m\n\u001b[1;33m    2012sales = sales      # This code returns an error because variable names cannot start with numbers\u001b[0m\n\u001b[1;37m            ^\u001b[0m\n\u001b[1;31mSyntaxError\u001b[0m\u001b[1;31m:\u001b[0m invalid syntax\n"
     ]
    }
   ],
   "source": [
    "2012sales = sales      # This code returns an error because variable names cannot start with numbers "
   ]
  },
  {
   "cell_type": "markdown",
   "metadata": {},
   "source": [
    "  "
   ]
  },
  {
   "cell_type": "markdown",
   "metadata": {},
   "source": [
    "_Exercise 1.4_  \n",
    "Create three new variables, expenses, clean_audit_opinion, and company_name and assign the values 57.68 (a float), True (a Boolean), and 'ACME' (a string), respectively, to these variables.  Use type(variable_name) to print the data type of each variable."
   ]
  },
  {
   "cell_type": "code",
   "execution_count": 339,
   "metadata": {},
   "outputs": [
    {
     "name": "stdout",
     "output_type": "stream",
     "text": [
      "<class 'float'>\n",
      "<class 'bool'>\n",
      "<class 'str'>\n"
     ]
    }
   ],
   "source": [
    "expenses = 57.68\n",
    "clean_audit_opinion = True\n",
    "company_name = 'ACME'\n",
    "print(type(expenses))\n",
    "print(type(clean_audit_opinion))\n",
    "print(type(company_name))"
   ]
  },
  {
   "cell_type": "markdown",
   "metadata": {},
   "source": [
    "  "
   ]
  },
  {
   "cell_type": "markdown",
   "metadata": {},
   "source": [
    "_Exercise 1.5_  \n",
    "Convert expenses (float) to an integer."
   ]
  },
  {
   "cell_type": "code",
   "execution_count": 340,
   "metadata": {},
   "outputs": [
    {
     "name": "stdout",
     "output_type": "stream",
     "text": [
      "57.68\n",
      "57\n",
      "57.68\n",
      "<class 'float'>\n",
      "<class 'int'>\n",
      "57\n",
      "<class 'int'>\n"
     ]
    }
   ],
   "source": [
    "print(expenses)\n",
    "print(int(expenses))\n",
    "print(expenses)          # The int function returns the expenses value converted to an integer, but the casting is not done in-place.\n",
    "print(type(expenses))\n",
    "print(type(int(expenses)))\n",
    "\n",
    "expenses = int(expenses) # To change the actual data type of the variable, the converted data has to be assigned to the variable\n",
    "print(expenses)   \n",
    "print(type(expenses))"
   ]
  },
  {
   "cell_type": "markdown",
   "metadata": {},
   "source": [
    "  "
   ]
  },
  {
   "cell_type": "markdown",
   "metadata": {},
   "source": [
    "---"
   ]
  },
  {
   "cell_type": "markdown",
   "metadata": {},
   "source": [
    "### Data Structures\n",
    "#### Overview  \n",
    "Data structures (e.g., sequences and dictionaries) store multiple values. Python has a number of data structures, including sequence data such as lists and strings, and dictionaries:\n",
    " - Sequence Data - lists and strings are both sequence data types (the order of the data matters) where the initial elements is assigned the index 0 (i.e., sequences are zero-based numbered), the second element then has index 1, and so on. Negative index is used to index starting from the last element of the sequence, e.g., -1 refers to the last index, -2 refers to the second last index, and so on (see the examples section below for a picture of this).\n",
    "   - __Strings__ store characters and are immutable (they are not designed to be extended or reduced). Each string is enclose by quotation marks, e.g.,:  \n",
    "   *company_name = 'ACME'*. \n",
    "   - __Lists__ can contain a mix of different data types and are mutable.  The elements in lists are separated by commas and the list of elements is enclosed by square brackets, e.g.,: \n",
    "   *list_name = [57.68, True, 'ACME']*.\n",
    "   - (There is also a data structure called a tuple that can contain any type of object like a list but is immutable list a string; tuple data structures are generally used for heterogeneous (different) datatypes and list for homogeneous (similar) datatypes. Since tuple are immutable, iterating through tuple is faster than with list. So there is a slight performance boost.  The elements in tuples are separated by commas and the tuple is enclose by parentheses, e.g., (57.68, True, 'ACME'). We focus on lists (and strings) because they use square brackets and behave similarly to numpy arrays and pandas dataframes, which is what we will be using almost exclusively later).  \n",
    "   - Lists and strings share a number of methods, including methods for extracting specific elements).  The examples below focus on lists, but the concepts also apply to strings.\n",
    " - A __dictionary__ is a sequence of items that is not sorted. Dictionaries are not sorted. Each item is a pair made of a key and a value (think attribute name and attribute value) separated by colons. Items are separated by commas and the list of items is enclosed in curly brackets, e.g.,:  \n",
    " *dictionary_name = {'Expenses': 57.68, 'Audit Opinion' : True, 'Company Name' : 'ACME']*."
   ]
  },
  {
   "cell_type": "markdown",
   "metadata": {},
   "source": [
    "#### Sequence Data (lists and strings)\n",
    "This section will first focus on how to extract elements from lists. We will later also learn some additional functions, including how to add and delete elements and locate specific elements in sequences.  The table below provides a summary of some of the most important sequence functions (after creating the initial list, the examples below go through these functions in the order they are listed in the table).\n",
    "\n",
    "|     Method/Operation       \t|     Result |\n",
    "|---| --- |\n",
    "|    s[i]                    \t|    ith item of s, origin 0                                                                                                        \t|\n",
    "|    s[i:j]                  \t|    slice of s from i to j                                                                                                         \t|\n",
    "|    s[i:j:k]                \t|    slice of s from i to j with   step k                                                                                           \t|\n",
    "|    s + t                   \t|    the concatenation   of s and t                                                                                                 \t|\n",
    "|    s.remove(x)             \t|    remove from s the first element with value x                                                                                   \t|\n",
    "|    del s[i:j]              \t|    delete from s slice of s from i to j                                                                                           \t|\n",
    "|    x in s                  \t|    True if an item of s is equal to x, else False                                                                                 \t|\n",
    "|    s.index(x, i, j)       \t|    index of the first occurrence of x in s (at or after index i and before index j; i and j are optional)                         \t|\n",
    "|    len(s)                  \t|    length of s                                                                                                                    \t|\n",
    "|    min(s)                  \t|    smallest item of s                                                                                                             \t|\n",
    "|    max(s)                  \t|    largest item of s                                                                                                              \t|\n",
    "|    s.count(x)              \t|    total number of occurrences of x in s                                                                                          \t|"
   ]
  },
  {
   "cell_type": "markdown",
   "metadata": {},
   "source": [
    "  "
   ]
  },
  {
   "cell_type": "markdown",
   "metadata": {},
   "source": [
    "__Creating Lists__  \n",
    "__Exercise 2.1__  \n",
    "Create a list that contains five elements: 10, 100, 1000, 10000, and 'large' and name this list 'list_example'."
   ]
  },
  {
   "cell_type": "code",
   "execution_count": 299,
   "metadata": {},
   "outputs": [],
   "source": [
    "list_example = [10, 100, 1000, 10000, 'large']\n"
   ]
  },
  {
   "cell_type": "markdown",
   "metadata": {},
   "source": [
    "  "
   ]
  },
  {
   "cell_type": "markdown",
   "metadata": {},
   "source": [
    "__Extracting Single Elements (indexing)__  \n",
    "In the list we just created, the different elements have the indexes as shown below.  These indexes can be used to extract a single elements from the list.  For example, to get 1000, you can use 2 and type list_example[2] (using -3, i.e., list_example[-3], returns the same result).\n",
    " \n",
    ". | 10 | 100 | 1000 | 10000 | large | .\n",
    ":------:|:------:|:------:|:------:|:------:|:------:|:------:\n",
    ". | 0 | 1 | 2 | 3 | 4 | 5 | 6\n",
    "-6 | -5 | -4 | -3 | -2 | -1 | ."
   ]
  },
  {
   "cell_type": "markdown",
   "metadata": {},
   "source": [
    "__Exercise 2.2__  \n",
    "a. Extract the value 'large' using a positive number.   \n",
    "b. Extract the value 100 using a negative number.  \n",
    "c. Create a string named city_name and assign the value 'San Diego' to this string.  Then (i) extract D using a positive number and (ii) extract e using a negative number.  "
   ]
  },
  {
   "cell_type": "code",
   "execution_count": 300,
   "metadata": {},
   "outputs": [
    {
     "name": "stdout",
     "output_type": "stream",
     "text": [
      "large\n",
      "100\n",
      "D\n",
      "e\n"
     ]
    }
   ],
   "source": [
    "print(list_example[4])\n",
    "print(list_example[-4])\n",
    "\n",
    "city_name = 'San Diego'\n",
    "print(city_name[4])\n",
    "print(city_name[-3])"
   ]
  },
  {
   "cell_type": "markdown",
   "metadata": {},
   "source": [
    "  "
   ]
  },
  {
   "cell_type": "markdown",
   "metadata": {},
   "source": [
    "**Extracting Multiple Elements (slicing)**  \n",
    "You can extract a sequence out of a list by specifying the start and end index, i.e., list_example[n:m]. The slice will include elements between index n (including this element) and index m (excluding this element).  For example to get [100, 1000], you can use either [1:3] or [-4:-2]:"
   ]
  },
  {
   "cell_type": "code",
   "execution_count": 301,
   "metadata": {},
   "outputs": [
    {
     "name": "stdout",
     "output_type": "stream",
     "text": [
      "[100, 1000]\n",
      "[100, 1000]\n"
     ]
    }
   ],
   "source": [
    "print(list_example[1:3])\n",
    "print(list_example[-4:-2])"
   ]
  },
  {
   "cell_type": "markdown",
   "metadata": {},
   "source": [
    "  "
   ]
  },
  {
   "cell_type": "markdown",
   "metadata": {},
   "source": [
    "If you leave the first value empty then 0 is assumed.  If you leave the second value empty then the index of the last element + 1 is assumed (in list_example the last element has index 5).  Using [:3] will extract [10, 100, 1000] and [3:] will extract [10000, large]:"
   ]
  },
  {
   "cell_type": "code",
   "execution_count": 302,
   "metadata": {},
   "outputs": [
    {
     "name": "stdout",
     "output_type": "stream",
     "text": [
      "[10, 100, 1000]\n",
      "[10000, 'large']\n"
     ]
    }
   ],
   "source": [
    "print(list_example[:3])\n",
    "print(list_example[3:])"
   ]
  },
  {
   "cell_type": "markdown",
   "metadata": {},
   "source": [
    "  "
   ]
  },
  {
   "cell_type": "markdown",
   "metadata": {},
   "source": [
    "__Exercise 2.3__  \n",
    "a. Extract [10, 100, 1000] using a negative number end value (and empty start)  \n",
    "b. Extract [10000, 'large'] using a negative number start value (and empty end value)  \n",
    "c. Extract 'San' from city_name using positive numbers (and empty start or end values as appropriate)  \n",
    "d. Extract 'Diego' from city_name using negative numbers (and empty start or end values as appropriate)  "
   ]
  },
  {
   "cell_type": "code",
   "execution_count": 303,
   "metadata": {},
   "outputs": [
    {
     "name": "stdout",
     "output_type": "stream",
     "text": [
      "a: [10, 100, 1000]\n",
      "b: [10000, 'large']\n",
      "c: San\n",
      "d: Diego\n"
     ]
    }
   ],
   "source": [
    "print('a: ' + str(list_example[:-2]))            # In addition to printing, I have added the following code 'a: ' + str(solution) to make it easier to read the results.\n",
    "print('b: ' + str(list_example[-2:]))\n",
    "print('c: ' + str(city_name[:3]))\n",
    "print('d: ' + str(city_name[-5:]))"
   ]
  },
  {
   "cell_type": "markdown",
   "metadata": {},
   "source": [
    "  "
   ]
  },
  {
   "cell_type": "markdown",
   "metadata": {},
   "source": [
    "__Using Stride__  \n",
    "String slicing can accept a third parameter, the stride, which specifies how many elements to move forward when traversing the sequence when selecting the next element.  When stride is omitted, the stride parameter defaults to 1, which means that each element between the two index numbers is extracted.  A stride of 2 extracts every other element (starting with the first element), a stride of 3 extracts every third element, etc.  \n",
    "\n",
    "__Exercise 2.4__  \n",
    "Select every other element in the list_example sequence"
   ]
  },
  {
   "cell_type": "code",
   "execution_count": 304,
   "metadata": {},
   "outputs": [
    {
     "name": "stdout",
     "output_type": "stream",
     "text": [
      "[10, 1000, 'large']\n"
     ]
    }
   ],
   "source": [
    "print(list_example[::2])"
   ]
  },
  {
   "cell_type": "markdown",
   "metadata": {},
   "source": [
    "  "
   ]
  },
  {
   "cell_type": "markdown",
   "metadata": {},
   "source": [
    "__Exercise 2.5__  \n",
    "Select every other element starting with the second element in the list_example sequence"
   ]
  },
  {
   "cell_type": "code",
   "execution_count": 305,
   "metadata": {},
   "outputs": [
    {
     "name": "stdout",
     "output_type": "stream",
     "text": [
      "[100, 10000]\n"
     ]
    }
   ],
   "source": [
    "print(list_example[1::2])"
   ]
  },
  {
   "cell_type": "markdown",
   "metadata": {},
   "source": [
    "  "
   ]
  },
  {
   "cell_type": "markdown",
   "metadata": {},
   "source": [
    "It is also possible to select elements starting from the right, i.e., we traverse the sequence from right to left, by using negative stride values, i.e., list_example[n:m:-k].  The start and end index are still defined by n and m, respectively.  However, since we are traversing from right to left n now has to be to the right of m, i.e., n>m.  When n is empty the start position is now all the way to the right.  When m is empty the end position is all the way to the left.  \n",
    "\n",
    "__Exercise 2.6__  \n",
    "a. Use negative stride and create a new list that reverses the order of the original list.  Name this list reverse_list_example. See note below related to reversing lists.  \n",
    "b. Instead of creating a new list, simply print the original list in reversed order but now exclude the last value (i.e., 'large' should not be included).  Use positive or empty values for the start and end values as appropriate.  \n",
    "c. Create the same results as in 5.b but use a negative values for the start value.\n",
    "d. Extract 10000, 100.\n",
    "\n",
    "*Note:* There are three different approaches related to reversing lists: (i) slicing using negative stride, (ii) using a method called reverse, e.g., list_example.reverse, and (iii) using a function call reversed, e.g., reversed(list_example). When slicing, we create a new list that is the reverse of the original list.  When using reverse we reverse the list in-place (we directly modify the original list).  When using reversed we create an iterator object. We can of course create additional code that further modify the output and makes the outcomes equivalent, but the performance is generally best if the approach is selected based on the desired output. As an extra exercise try using this two alternatives to create a reversed list.  Note that you need to use list(iterator) to create a list from an iterator."
   ]
  },
  {
   "cell_type": "code",
   "execution_count": 306,
   "metadata": {},
   "outputs": [
    {
     "name": "stdout",
     "output_type": "stream",
     "text": [
      "['large', 10000, 1000, 100, 10]\n",
      "[10000, 1000, 100, 10]\n",
      "[10000, 1000, 100, 10]\n",
      "[10000, 100]\n"
     ]
    }
   ],
   "source": [
    "reverse_list_example = list_example[::-1]    #Start all the way to the right, select each element going backwards, and stop all the way to the left\n",
    "print(reverse_list_example)\n",
    "print(list_example[3::-1])                   #Start at 3, select each element going backwards, and stop all the way to the left.\n",
    "print(list_example[-2::-1])                  #Start at -2, select each element going backwards, and stop all the way to the left.\n",
    "print(list_example[3::-2]) "
   ]
  },
  {
   "cell_type": "markdown",
   "metadata": {},
   "source": [
    "  "
   ]
  },
  {
   "cell_type": "markdown",
   "metadata": {},
   "source": [
    "__Adding Elements__  \n",
    "To add elements contained two lists, s and t, we can use the concatenation operator +, i.e., s + t, to create a new list u.  If s = [1, 10] and t=[45, 22, 50] then if we set u = s + t then u will be [1, 10, 45, 22, 50].  To instead add t to s (and update s inplace), we can say s += t, (which is similar to s = s + t, except that the latter still creates a new variable). There are also two specific methods that can be used to achieve the same result: append to add a single element and extend to add multiple elements (a list) to an existing list.  When using s += t, Python actually runs the extend method, so s += t is equivalent to s.extend(t).  \n",
    "  \n",
    "__Exercise 2.7__  \n",
    "a. Add 'very_large' to list_example using append  \n",
    "b. Add [101, 102] as a single element to list_example using append  \n",
    "c. Add ['even_larger', 'the largest'] as two separate elements to list_example using extend  \n",
    "d. Add [1, 2, 3, 4] as four separate elements to list_example using the concatenation operator  \n",
    "e. Add [1, 2, 3, 4] as a single element to list_example using the concatenation operator"
   ]
  },
  {
   "cell_type": "code",
   "execution_count": 307,
   "metadata": {},
   "outputs": [
    {
     "name": "stdout",
     "output_type": "stream",
     "text": [
      "[10, 100, 1000, 10000, 'large', 'very_large']\n",
      "[10, 100, 1000, 10000, 'large', 'very_large', [101, 102]]\n",
      "[10, 100, 1000, 10000, 'large', 'very_large', [101, 102], 'even_larger', 'the largest']\n",
      "[10, 100, 1000, 10000, 'large', 'very_large', [101, 102], 'even_larger', 'the largest', 1, 2, 3, 4]\n",
      "[10, 100, 1000, 10000, 'large', 'very_large', [101, 102], 'even_larger', 'the largest', 1, 2, 3, 4, [101, 102]]\n"
     ]
    }
   ],
   "source": [
    "list_example.append('very_large')\n",
    "print(list_example)\n",
    "\n",
    "list_example.append([101, 102])\n",
    "print(list_example)\n",
    "\n",
    "list_example.extend(['even_larger', 'the largest'])\n",
    "print(list_example)\n",
    "\n",
    "list_example += [1, 2, 3, 4]\n",
    "print(list_example)\n",
    "\n",
    "list_example += [[101, 102]]\n",
    "print(list_example)\n"
   ]
  },
  {
   "cell_type": "markdown",
   "metadata": {},
   "source": [
    "  "
   ]
  },
  {
   "cell_type": "markdown",
   "metadata": {},
   "source": [
    "__Removing Elements__  \n",
    "To remove elements, remove('element_value') is used to remove an element with a specific value (but only the first occurrence of the element) and del list[n:m] is used to remove elements based on their index.  Both remove and del operate inplace.  \n",
    "  \n",
    "__Exercise 2.8__  \n",
    "a. Remove the value 'even_larger'  \n",
    "b. Remove the first element that contain the value [101, 102]  \n",
    "c. Remove the element with index 2, i.e., 1000  \n",
    "d. Remove the second to last element and the three elements prior to this element in the sequence, i.e., remove [1, 2, 3, 4]\n"
   ]
  },
  {
   "cell_type": "code",
   "execution_count": 308,
   "metadata": {},
   "outputs": [
    {
     "name": "stdout",
     "output_type": "stream",
     "text": [
      "[10, 100, 1000, 10000, 'large', 'very_large', [101, 102], 'even_larger', 'the largest', 1, 2, 3, 4, [101, 102]]\n",
      "[10, 100, 1000, 10000, 'large', 'very_large', [101, 102], 'the largest', 1, 2, 3, 4, [101, 102]]\n",
      "[10, 100, 1000, 10000, 'large', 'very_large', 'the largest', 1, 2, 3, 4, [101, 102]]\n",
      "[10, 100, 10000, 'large', 'very_large', 'the largest', 1, 2, 3, 4, [101, 102]]\n",
      "[10, 100, 10000, 'large', 'very_large', 'the largest', [101, 102]]\n"
     ]
    }
   ],
   "source": [
    "print(list_example)\n",
    "\n",
    "list_example.remove('even_larger') \n",
    "print(list_example)\n",
    "\n",
    "list_example.remove([101,102]) \n",
    "print(list_example)\n",
    "\n",
    "del list_example[2]\n",
    "print(list_example)\n",
    "\n",
    "del list_example[-5:-1]\n",
    "print(list_example)"
   ]
  },
  {
   "cell_type": "markdown",
   "metadata": {},
   "source": [
    "  "
   ]
  },
  {
   "cell_type": "markdown",
   "metadata": {},
   "source": [
    "__Finding Elements__  \n",
    "The in operator can be used to examine whether a value is part of a sequence, e.g., x in s returns True if an item in list s is equal to x (you can also use x not in s to instead return True if there are no items in s that are equal to x). The function s.index(x) instead returns the index (the location) of the first occurrence of x in s.  The index function can also take two additional optional arguments, i and j, that indicate between which indexes in s should be examined for x (at or after index i and before index j).\n",
    "  \n",
    "__Exercise 2.9__  \n",
    "a. Determine if [101, 102] is part of list_example  \n",
    "b. Determine if 'even_larger' is part of list_example  \n",
    "c. Determine the index of [101, 102] in list_example  \n",
    "d. Determine the index of 'very large' in list_example  \n",
    "e. Determine the index of 100 in list_example  \n",
    "f. Add the value 10000 to list_example and then determine the index of the second 10000  \n",
    "g. Determine the index of the space (' ') in city_name  \n",
    "h. Extract all the characters after the space in city_name (exclude the space), recall that the string city_name contains 'San Diego'  \n",
    "i. Extract all the characters before the space in city_name"
   ]
  },
  {
   "cell_type": "code",
   "execution_count": 309,
   "metadata": {},
   "outputs": [
    {
     "name": "stdout",
     "output_type": "stream",
     "text": [
      "[10, 100, 10000, 'large', 'very_large', 'the largest', [101, 102]]\n",
      "a: True\n",
      "b: False\n",
      "c: 6\n",
      "d: 4\n",
      "e: 1\n",
      "f: 7\n",
      "g: 3\n",
      "h: Diego\n",
      "i: San\n"
     ]
    }
   ],
   "source": [
    "print(list_example)\n",
    "print('a: ' + str([101,102] in list_example))\n",
    "print('b: ' + str('even_larger' in list_example))\n",
    "\n",
    "print('c: ' + str(list_example.index([101,102])))\n",
    "print('d: ' + str(list_example.index('very_large')))\n",
    "print('e: ' + str(list_example.index(100)))\n",
    "\n",
    "list_example = list_example + [10000]\n",
    "print('f: ' + str(list_example.index(10000,list_example.index(10000)+1)))\n",
    "\n",
    "print('g: ' + str(city_name.index(' ')))\n",
    "print('h: ' + str(city_name[city_name.index(' ')+1:]))\n",
    "print('i: ' + str(city_name[:city_name.index(' ')]))"
   ]
  },
  {
   "cell_type": "markdown",
   "metadata": {},
   "source": [
    "  "
   ]
  },
  {
   "cell_type": "markdown",
   "metadata": {},
   "source": [
    "**Aggregate Functions**  \n",
    "While not exactly  aggregate functions, functions like min, max, and count are common aggregate functions.  The min(s) and max(s) functions returns that smallest and largest values in the sequence s (note that all elements have to be numeric, i.e., data ).  The len(s) function returns the number of items in the sequence s.  The method s.count(x) is similar to len(s) in that it also returns a count, but instead of returning the total number of items in the sequence s, s.count(x) returns the number of occurrences of x in s.  \n",
    "  \n",
    "__Exercise 2.10__  \n",
    "a. Find the largest number among all numeric values in list_example (you can simply take slices of all numeric values from list_example)  \n",
    "b. Find the smaller number among all number values in list example  \n",
    "c. Count how many items there are in total in list_example   \n",
    "d. Count how many items have the value 10000 in list_example  "
   ]
  },
  {
   "cell_type": "code",
   "execution_count": 310,
   "metadata": {},
   "outputs": [
    {
     "name": "stdout",
     "output_type": "stream",
     "text": [
      "[10, 100, 10000, 'large', 'very_large', 'the largest', [101, 102], 10000]\n",
      "10000\n",
      "10\n",
      "8\n",
      "2\n"
     ]
    }
   ],
   "source": [
    "print(list_example)\n",
    "print(max(list_example[0:3]+list_example[-1:]))          # Combine slices that contain numeric values\n",
    "print(min(list_example[0:3]+list_example[-1:]))\n",
    "print(len(list_example))\n",
    "print(list_example.count(10000))"
   ]
  },
  {
   "cell_type": "markdown",
   "metadata": {},
   "source": [
    "  "
   ]
  },
  {
   "cell_type": "code",
   "execution_count": 311,
   "metadata": {},
   "outputs": [],
   "source": [
    "#print(list_example.index([101,102]))\n",
    "#print(len(list_example)-1-list_example[::-1].index([101,102])) # not the fastest way to do this, but easy and clean \n",
    "                                      \n",
    "#import timeit\n",
    "#print(timeit.timeit('len(l_e)-1-l_e[::-1].index(833)', 'l_e = list(range(1000))', number=1000))\n",
    "#print(timeit.timeit('list(reversed(le)).index(833)', 'le = list(range(1000))', number=1000))\n",
    "#_list.reverse() modifies the list itself - it reverses the elements of the list in place., whereas reversed(_list) returns an iterator ready to traverse the list in reversed order. \n"
   ]
  },
  {
   "cell_type": "markdown",
   "metadata": {},
   "source": [
    "  "
   ]
  },
  {
   "cell_type": "markdown",
   "metadata": {},
   "source": [
    "__Additional String Methods__  \n",
    "The sequence type string have some additional functions that only work for strings.  I have listed some of the more important string functions below. While this tutorial does not go through them, I expect that you are able to use them when needed:  \n",
    "\n",
    "|Method/Operation|Result|\n",
    "|:-------|:-------|\n",
    "|    str.capitalize()                      \t|    Returns a copy of str with the first character capitalized and the rest lowercased.|\n",
    "|    str.upper()                          \t|    Returns a copy of str with all cased characters capitalized.|\n",
    "|    str.lower()                           \t|    Return a copy of str all cased characters lowercased.|\n",
    "|    str.find(x, i, j)                  \t|    Similar to s.index(x, i, j) except that find returns -1 rather than ValueError if x is not found in the sequence.  Also note that when index is used with lists, x has to be a single item, but in find (and index when used with a string) x can be a substring (e.g., contain multiple items).|\n",
    "|    str.rfind(x, i, j)                 \t|    Return the highest index of items in str that have the value x.|\n",
    "|    str.strip([chars])                    \t|    Returns a copy of str with leading and trailing whitespaces removed.  Can alternatively remove leading and trailing characters that are specified in the chars argument removed. The chars argument is a string that specifies characters to remove (all combinations of the characters are removed), e.g., for city_name.strip('aoS') will return 'n Dieg'.  Two related functions, str.lstrip() and str.rstrip strips only leading and trailing characters, respectively.|"
   ]
  },
  {
   "cell_type": "markdown",
   "metadata": {},
   "source": [
    "#### Data Dictionaries  \n",
    "Data dictionaries can store mixed types of data, but the elements are unordered.  Instead each element is a key-value pair, i.e., key: value. The elements are separated by commas and the entire dictionary is enclosed by curly brackets, e.g., dict_1 = {key_1: value_1, key_2: value_2}.  In addition to storing single values, key-value pairs can also store lists, e.g, dict_lists_1 = {key_1: [value_1_1, value_1_2], key_2: [value_2_1, value_2_2]}.  \n",
    "  \n",
    "__Creating Data Dictionaries__  \n",
    "__Exercise 2.11__  \n",
    "a. Create a dictionary named acme_financials with three key-value pairs: expenses-132, sales-164, and number_of_customers-1023.   \n",
    "b. Create a dictionary named acme_multiple_financials with three key-value pairs each containing a list of values: expenses-29, 32, 34, 37, sales-38, 44, 42, 40, and number_of_customers-250, 261, 254, 258.  "
   ]
  },
  {
   "cell_type": "code",
   "execution_count": 312,
   "metadata": {},
   "outputs": [
    {
     "name": "stdout",
     "output_type": "stream",
     "text": [
      "a: {'expenses': 132, 'sales': 164, 'number_of_customers': 1023}\n",
      "b: {'expenses': [29, 32, 34, 37], 'sales': [38, 44, 36, 40], 'number_of_customers': [250, 261, 254, 258]}\n"
     ]
    }
   ],
   "source": [
    "acme_financials = {'expenses': 132, 'sales': 164, 'number_of_customers': 1023}\n",
    "print('a: ' + str(acme_financials))\n",
    "acme_multiple_financials = {'expenses': [29, 32, 34, 37], 'sales': [38, 44, 36, 40], 'number_of_customers': [250, 261, 254, 258]}\n",
    "print('b: ' + str(acme_multiple_financials))"
   ]
  },
  {
   "cell_type": "markdown",
   "metadata": {},
   "source": [
    "  "
   ]
  },
  {
   "cell_type": "markdown",
   "metadata": {},
   "source": [
    "__Extracting Elements__  \n",
    "Because elements are unordered, values are accessed by keys instead of indexes, e.g., dict_1['key_1'] returns value_1.\n",
    "  \n",
    "__Exercise 2.12__  \n",
    "a. Extract sales out of acme_financials  \n",
    "b. Extract sales out of acme_multiple_financials  \n",
    "c. Extract the second sales value out of acme_multiple_financials, i.e., 44."
   ]
  },
  {
   "cell_type": "code",
   "execution_count": 313,
   "metadata": {},
   "outputs": [
    {
     "name": "stdout",
     "output_type": "stream",
     "text": [
      "a: 164\n",
      "b: [38, 44, 36, 40]\n",
      "c: 44\n"
     ]
    }
   ],
   "source": [
    "print('a: ' + str(acme_financials['sales']))\n",
    "print('b: ' + str(acme_multiple_financials['sales']))\n",
    "print('c: ' + str(acme_multiple_financials['sales'][1]))"
   ]
  },
  {
   "cell_type": "markdown",
   "metadata": {},
   "source": [
    "  "
   ]
  },
  {
   "cell_type": "markdown",
   "metadata": {},
   "source": [
    "__Adding and Deleting Elements__  \n",
    "The code to add a single element to an existing dictionary follows the structure: dict_1['new_key']=value_1.  The dict.update method is used to add multiple elements, e.g., dict_1.update({'new_key_1'=value_1, 'new_key_2'=value_2, etc.}).  To delete an element, del is used, e.g., del dict_1[key_to_delete_1], dict_1[key_to_delete_2], etc. \n",
    "  \n",
    "__Exercise 2.13__  \n",
    "a. Add a new key-value pair with the key 'assets' and the values 378, 379, 376, 390 to acme_multiple_financials.  \n",
    "b. Add two new key-value pairs with the keys 'AR' and 'AP' and values 38, 37, 36, 39, and 78, 39, 76, 90, respectively, to acme_multiple_financials.  \n",
    "c. Delete the key-value pair with the key 'assets' from acme_multiple_financials."
   ]
  },
  {
   "cell_type": "code",
   "execution_count": 314,
   "metadata": {},
   "outputs": [
    {
     "name": "stdout",
     "output_type": "stream",
     "text": [
      "a: {'expenses': [29, 32, 34, 37], 'sales': [38, 44, 36, 40], 'number_of_customers': [250, 261, 254, 258], 'assets': [378, 379, 366, 390]}\n",
      "b: {'expenses': [29, 32, 34, 37], 'sales': [38, 44, 36, 40], 'number_of_customers': [250, 261, 254, 258], 'assets': [378, 379, 366, 390], 'AR': [38, 37, 36, 39], 'AP': [78, 39, 76, 90]}\n",
      "c: {'expenses': [29, 32, 34, 37], 'sales': [38, 44, 36, 40], 'number_of_customers': [250, 261, 254, 258], 'AR': [38, 37, 36, 39], 'AP': [78, 39, 76, 90]}\n"
     ]
    }
   ],
   "source": [
    "acme_multiple_financials['assets'] = [378, 379, 366, 390]\n",
    "print('a: ' + str(acme_multiple_financials))\n",
    "\n",
    "acme_multiple_financials.update({'AR':[38, 37, 36, 39], 'AP':[78, 39, 76, 90]})\n",
    "print('b: ' + str(acme_multiple_financials))\n",
    "\n",
    "del acme_multiple_financials['assets']\n",
    "print('c: ' + str(acme_multiple_financials))"
   ]
  },
  {
   "cell_type": "markdown",
   "metadata": {},
   "source": [
    "---  \n",
    "### Operators"
   ]
  },
  {
   "cell_type": "markdown",
   "metadata": {},
   "source": [
    "#### Arithmetic Operators\n",
    "|     Operator     \t|      Example      \t|       Meaning       \t|\n",
    "|:----------------:\t|:-----------------:\t|:----------------------------------------\t|\n",
    "|         +        \t|       a + b       \t|    Addition               \t|\n",
    "|         -        \t|       a - b       \t|    Subtraction                       \t|\n",
    "|         *        \t|    a * b    \t|    Multiplication    \t|\n",
    "|         /        \t|       a / b       \t|    Division                              \t|\n",
    "|         %        \t|       a % b       \t|    Modulo (reminder)                     \t|\n",
    "|        **        \t|       a ** b      \t|    Exponentiation                        \t|"
   ]
  },
  {
   "cell_type": "markdown",
   "metadata": {},
   "source": [
    "__Exercise 3.1__  \n",
    "a. Print total expenses by summing the four expense values in acme_multiple_financials  \n",
    "b. Print sales minus expenses based on the first element in each sequence  \n",
    "c. Calculate sales per employee based on the first value in each sequence"
   ]
  },
  {
   "cell_type": "code",
   "execution_count": 315,
   "metadata": {},
   "outputs": [
    {
     "name": "stdout",
     "output_type": "stream",
     "text": [
      "158\n",
      "9\n",
      "0.152\n"
     ]
    }
   ],
   "source": [
    "print(acme_multiple_financials['sales'][0] + acme_multiple_financials['sales'][1]\n",
    "      + acme_multiple_financials['sales'][2] + acme_multiple_financials['sales'][3])       # We will later learn how to create a loop to automate this\n",
    "print(acme_multiple_financials['sales'][0]-acme_multiple_financials['expenses'][0])        # We will later use NumPy (and Pandas) to add each element of an array to each element of a second array\n",
    "print(acme_multiple_financials['sales'][0]/acme_multiple_financials['number_of_customers'][0])"
   ]
  },
  {
   "cell_type": "markdown",
   "metadata": {},
   "source": [
    "The arithmetic operators can also be used in-place when an operation is done to a variable that is also on the left-hand side of the equal sign.  For example if c = 3 and we want to add 5 to c then we can write c = c + 5 or c += 5.  \n",
    "\n",
    "#### Comparison Operators  \n",
    "Conditional/comparison operators return True or False.  \n",
    "\n",
    "|    Operator    \t|    Example    \t|                                   Result                                   \t|\n",
    "|:--------------:\t|:-------------:\t|:--------------------------------------------------------------------------\t|\n",
    "|       ==       \t|     a == b    \t|    True if the value of a is **equal to** the value of b; otherwise False    \t|\n",
    "|       !=       \t|     a != b    \t|    True if a is **not equal to** b; otherwise False                          \t|\n",
    "|       <        \t|     a < b     \t|    True if a is **less than** b;   otherwise False                             \t|\n",
    "|       <=       \t|     a <= b    \t|    True if a is **less than or equal to** b; otherwise False                 \t|\n",
    "|       >        \t|     a > b     \t|    True if a is **greater than** b; otherwise False                          \t|\n",
    "|       >=        \t|     a >= b     \t|    True if a is **greater than or equal to** b; otherwise False                          \t|"
   ]
  },
  {
   "cell_type": "markdown",
   "metadata": {},
   "source": [
    "__Exercises 3.2__  \n",
    "a. Evaluate if sales is more than expenses using the first element in each sequence.  \n",
    "b. Evaluate if sales is less than expenses using the first element in each sequence.  \n",
    "c. Evaluate if sales is equal to expenses using the first element in each sequence.  \n",
    "d. Evaluate if sales is not equal to expenses using the first element in each sequence.  "
   ]
  },
  {
   "cell_type": "code",
   "execution_count": 316,
   "metadata": {},
   "outputs": [
    {
     "name": "stdout",
     "output_type": "stream",
     "text": [
      "True\n",
      "False\n",
      "False\n",
      "True\n"
     ]
    }
   ],
   "source": [
    "print(acme_multiple_financials['sales'][0]>acme_multiple_financials['expenses'][0])\n",
    "print(acme_multiple_financials['sales'][0]<acme_multiple_financials['expenses'][0])\n",
    "print(acme_multiple_financials['sales'][0]==acme_multiple_financials['expenses'][0])\n",
    "print(acme_multiple_financials['sales'][0]!=acme_multiple_financials['expenses'][0])"
   ]
  },
  {
   "cell_type": "markdown",
   "metadata": {},
   "source": [
    "In addition to using comparison operators, all the following are considered false when evaluated in a boolean context (see example below):\n",
    "- The Boolean value False\n",
    "- Any value that is numerically zero (e.g., 0, 0.0)\n",
    "- An empty string\n",
    "- The special value denoted by the Python keyword None  \n",
    "\n",
    "Virtually any other object built into Python is regarded as true."
   ]
  },
  {
   "cell_type": "code",
   "execution_count": 317,
   "metadata": {},
   "outputs": [
    {
     "name": "stdout",
     "output_type": "stream",
     "text": [
      "False False False True True False\n"
     ]
    }
   ],
   "source": [
    "print(bool(False), bool(0), bool(''), bool(-1), bool('Hello'), bool(None))"
   ]
  },
  {
   "cell_type": "markdown",
   "metadata": {},
   "source": [
    "#### Logical Operators  \n",
    "The logical operators and, not, and or modify and join together expressions evaluated in a boolean context to create more complex conditions.  \n",
    "  \n",
    "  |    Operator    \t|    Example    \t|                                      Meaning                                      \t|\n",
    "|:--------------:\t|:-------------:\t|:---------------------------------------------------------------------------------\t|\n",
    "|       not      \t|     not x     \t|    True if x is False,   False if x is True (reverses the boolean value of x)     \t|\n",
    "|       or       \t|     x or y    \t|    True if   either x or y is True; otherwise False                               \t|\n",
    "|        ^       \t|    x xor y    \t|    True if one and   only one of the inputs (x and y) is true; otherwise False    \t|\n",
    "|       and      \t|    x and y    \t|    True if   both x and y are True; otherwise False                               \t|"
   ]
  },
  {
   "cell_type": "markdown",
   "metadata": {},
   "source": [
    "**Exercises 3.3**  \n",
    "a. Perform the same comparison as in 3.2.d, but instead of using \"!=\" use \"not\" and \"==\"  \n",
    "b. Print true if either the second or third index values for sales is greater than the first index value for sales  \n",
    "c. Print true if only the second or only the third index value for sales is greater than the first index value for sales  \n",
    "d. Print true if both the second and third index values for sales is greater than the first index value for sales "
   ]
  },
  {
   "cell_type": "code",
   "execution_count": 318,
   "metadata": {},
   "outputs": [
    {
     "name": "stdout",
     "output_type": "stream",
     "text": [
      "True\n",
      "True\n",
      "True\n",
      "False\n"
     ]
    }
   ],
   "source": [
    "print(not acme_multiple_financials['sales'][0] == acme_multiple_financials['expenses'][0])\n",
    "print(acme_multiple_financials['sales'][0] < acme_multiple_financials['sales'][1] or acme_multiple_financials['sales'][0] < acme_multiple_financials['sales'][2])\n",
    "print((acme_multiple_financials['sales'][0] < acme_multiple_financials['sales'][1]) ^ (acme_multiple_financials['sales'][0] < acme_multiple_financials['sales'][2]))\n",
    "print(acme_multiple_financials['sales'][0] < acme_multiple_financials['sales'][1] and acme_multiple_financials['sales'][0] < acme_multiple_financials['sales'][2])"
   ]
  },
  {
   "cell_type": "markdown",
   "metadata": {},
   "source": [
    "__Short-Circuit Evaluation__  \n",
    "Short-circuit evaluation means that the logical comparisons are evaluated in order from left to right. As soon as one logical comparison is found that allows for a conclusion, then no additional conditional expressions are evaluated.  For _and_, starting from the left, if a conditional expression returns False, then no additional comparisons are done and the value of the value of the first false is returned (which typically is simply False).  For _or_, starting from the left, if a conditional expression returns True then no additional comparisons are done and the first True value is returned (which typically is True).  \n",
    "  \n",
    "There are some common idiomatic patterns that exploit short-circuit evaluation for conciseness of expression.  These expression are very difficult to understand unless you are aware of them (I am not a fan of them because they make the code less readable, but many people still use them so they are good to at least be aware of).  Two common patterns are for handling zero division and for assigning default values.  \n",
    "  \n",
    "_Zero Division_  \n",
    "Suppose you have defined two variables sales_1 and sales_2, and you want to know whether (sales_1 / sales_2) > 0.  This evaluation can be implemented using a simple comparison operator.  However, if sales_2 Python will return an error indicating the zero division is not possible.  It is possible to avoid the zero division using short circuit evaluation as follows: sales_2 and (sales_1 / sales_2) > 0.  To see how this works first create sales_1 and sales_2 and assign these variables the values 100 and 0, respectively.  Then attempt the (sales_1 / sales_2) > 0 comparison.  "
   ]
  },
  {
   "cell_type": "code",
   "execution_count": 319,
   "metadata": {},
   "outputs": [
    {
     "ename": "ZeroDivisionError",
     "evalue": "division by zero",
     "output_type": "error",
     "traceback": [
      "\u001b[1;31m---------------------------------------------------------------------------\u001b[0m",
      "\u001b[1;31mZeroDivisionError\u001b[0m                         Traceback (most recent call last)",
      "\u001b[1;32m<ipython-input-319-53753995ef6f>\u001b[0m in \u001b[0;36m<module>\u001b[1;34m\u001b[0m\n\u001b[0;32m      1\u001b[0m \u001b[0msales_1\u001b[0m \u001b[1;33m=\u001b[0m \u001b[1;36m100\u001b[0m\u001b[1;33m\u001b[0m\u001b[1;33m\u001b[0m\u001b[0m\n\u001b[0;32m      2\u001b[0m \u001b[0msales_2\u001b[0m \u001b[1;33m=\u001b[0m \u001b[1;36m0\u001b[0m\u001b[1;33m\u001b[0m\u001b[1;33m\u001b[0m\u001b[0m\n\u001b[1;32m----> 3\u001b[1;33m \u001b[0mprint\u001b[0m\u001b[1;33m(\u001b[0m\u001b[1;33m(\u001b[0m\u001b[0msales_1\u001b[0m \u001b[1;33m/\u001b[0m \u001b[0msales_2\u001b[0m\u001b[1;33m)\u001b[0m \u001b[1;33m>\u001b[0m \u001b[1;36m0\u001b[0m\u001b[1;33m)\u001b[0m\u001b[1;33m\u001b[0m\u001b[1;33m\u001b[0m\u001b[0m\n\u001b[0m",
      "\u001b[1;31mZeroDivisionError\u001b[0m: division by zero"
     ]
    }
   ],
   "source": [
    "sales_1 = 100\n",
    "sales_2 = 0\n",
    "print((sales_1 / sales_2) > 0)"
   ]
  },
  {
   "cell_type": "markdown",
   "metadata": {},
   "source": [
    "  "
   ]
  },
  {
   "cell_type": "markdown",
   "metadata": {},
   "source": [
    "Now instead perform the comparison using sales_2 and (sales_1 / sales_2) > 0 and notice how 0 is returned.  The reason for this is that short circuit evaluation compares from left to right and stops comparing if a conditional expression returns False and since sales_2 contains the value 0, which is interpreted as False in a boolean context, short circuit evaluation will stop the evaluation after the first logical comparison and return the value of the first comparison."
   ]
  },
  {
   "cell_type": "code",
   "execution_count": null,
   "metadata": {},
   "outputs": [],
   "source": [
    "print(sales_2 and (sales_1 / sales_2) > 0)\n",
    "print(bool(sales_2))"
   ]
  },
  {
   "cell_type": "markdown",
   "metadata": {},
   "source": [
    "  "
   ]
  },
  {
   "cell_type": "markdown",
   "metadata": {},
   "source": [
    "If on the other hand sales_2 is equal to 200 (and sales_1 is still equal to 100), sales_2 is no longer False and the comparison of (sales_1 / sales_2) > 0 is performed."
   ]
  },
  {
   "cell_type": "code",
   "execution_count": null,
   "metadata": {},
   "outputs": [],
   "source": [
    "sales_2 = 200\n",
    "print(sales_2 and (sales_1 / sales_2) > 0)"
   ]
  },
  {
   "cell_type": "markdown",
   "metadata": {},
   "source": [
    "  "
   ]
  },
  {
   "cell_type": "markdown",
   "metadata": {},
   "source": [
    "__Exercises 3.4__  \n",
    "a. Create four variables: sales, prior_sales, number_of_employees, and prior_number_of_employees and assign these variables the values 120, 90, 500, and 490, respectively.  Then create a new variable called abnormal_sales_growth calculated as ((sales - prior_sales) / prior_sales) / ((number_of_employees - prior_number_of_employees) / prior_number_of_employees). What is the value abnormal_sales_growth?  \n",
    "b. Now assign sales, prior_sales, number_of_employees, and prior_number_of_employees the values 120, 90, 500, and 500, respectively.  What is the value abnormal_sales_growth now?  \n",
    "c. Use short-circuit evaluation to assign zero to abnormal_sales_growth if number_of_employees – prior_number_of_employees is equal to zero."
   ]
  },
  {
   "cell_type": "code",
   "execution_count": null,
   "metadata": {},
   "outputs": [],
   "source": [
    "#a.\n",
    "sales = 120\n",
    "prior_sales = 90\n",
    "number_of_employees = 500\n",
    "prior_number_of_employees = 490\n",
    "abnormal_sales_growth = ((sales - prior_sales) / prior_sales) / ((number_of_employees - prior_number_of_employees) / prior_number_of_employees)\n",
    "print(abnormal_sales_growth)\n",
    "\n",
    "#b.\n",
    "sales = 120\n",
    "prior_sales = 90\n",
    "number_of_employees = 500\n",
    "prior_number_of_employees = 500\n",
    "#abnormal_sales_growth = ((sales - prior_sales) / prior_sales) / ((number_of_employees - prior_number_of_employees) / prior_number_of_employees)\n",
    "print(abnormal_sales_growth)\n",
    "\n",
    "#c.\n",
    "abnormal_sales_growth = (number_of_employees - prior_number_of_employees) and ((sales - prior_sales) / prior_sales) / ((number_of_employees - prior_number_of_employees) / prior_number_of_employees)\n",
    "print(abnormal_sales_growth)"
   ]
  },
  {
   "cell_type": "markdown",
   "metadata": {},
   "source": [
    "_Selecting a Default Value_  \n",
    "Another idiom involves selecting a default value when a specified value is zero or empty. For example, suppose you want to assign a variable s to the value contained in another variable called t. But if t is empty, you want to supply a default value.  This is often done using short-circuit evaluation:  \n",
    "s = t or 'default_value'\n",
    "\n",
    "This works because if t is non-empty then t is considered True and the evaluation stops and the value of t is returned (recall that when using OR, Python stops evaluating when the first True is encountered and the value of the first True statement is returned). If t is empty, then t is considered False and the evaluation moves over to the default value (which is a non-empty string) that is evaluated as True and therefore returned.\n",
    "\n",
    "__Exercise 3.5__  \n",
    "Use the patterns in _Zero Division_ and _Selecting a Default Value_ to assign None to abnormal_sales_growth if number_of_employees – prior_number_of_employees is equal to zero and otherwise the values as calculated by the formula given earlier.  Print the results and then change prior_number_of_employees back to 490 and then rerun the zero division/selecting a default value again (and print the results)"
   ]
  },
  {
   "cell_type": "code",
   "execution_count": null,
   "metadata": {},
   "outputs": [],
   "source": [
    "abnormal_sales_growth = ((number_of_employees - prior_number_of_employees) and ((sales - prior_sales) / prior_sales) / ((number_of_employees - prior_number_of_employees) / prior_number_of_employees)) or None\n",
    "print(abnormal_sales_growth)\n",
    "prior_number_of_employees = 490\n",
    "abnormal_sales_growth = ((number_of_employees - prior_number_of_employees) and ((sales - prior_sales) / prior_sales) / ((number_of_employees - prior_number_of_employees) / prior_number_of_employees)) or None\n",
    "print(abnormal_sales_growth)"
   ]
  },
  {
   "cell_type": "markdown",
   "metadata": {},
   "source": [
    "---  \n",
    "### Control Flow  \n",
    "The statements in your code are executed in the order that they appear (from top to bottom), but control flow statements can be used to change this top to bottom execution by executing particular statements based on conditional statements and loops.  Conditional statements are implemented in Python using if, elif, else statements and loops are implemented using for loops (while loops are also supported, but they are uncommon in Python data analytics).  Generally, when using Python for data analytics tasks, it is better to avoid if, elif, else and for loops and instead perform the needed work using functions and methods provided in various libraries.  Not only does this allow us to avoid reinventing the wheel, the code provided by well established libraries also performs better in terms of execution time (this code is created in C and other lower level languages, which are faster, rather than Python and has been optimized). This is a major reason why NumPy and Pandas are so important (we will cover NumPy and Pandas in the next two tutorials). There are, however, times when there are no suitable functions in established libraries to help you and then you need to create your own code.  Further, other developers often create code that uses control flow statements and to understand their code it is important to understand these statements.   \n",
    "\n",
    "#### if, elif, else  \n",
    "The general structure of if, elif, else is:  \n",
    "if comparison_1:  \n",
    "&nbsp; &nbsp; &nbsp; statement_1.a  \n",
    "&nbsp; &nbsp; &nbsp; statement_1.b  \n",
    "&nbsp; &nbsp; &nbsp; ...  \n",
    "elif comparison_2:  \n",
    "&nbsp; &nbsp; &nbsp; statement_2.a  \n",
    "&nbsp; &nbsp; &nbsp; statement_2.b  \n",
    "&nbsp; &nbsp; &nbsp; ...  \n",
    "else:  \n",
    "&nbsp; &nbsp; &nbsp; statement_n.a  \n",
    "&nbsp; &nbsp; &nbsp; statement_n.b  \n",
    "&nbsp; &nbsp; &nbsp; ...  \n",
    "There can be zero or more elif parts and the else part is optional (the keyword elif is short of else if).  When a comparison is true the indented statements (the indentions are important) below the comparison (after the colon) are executed. However, only one block among the several if...elif...else blocks is executed. So if comparison_1 and comparison_2 are both True then only the block with Statement_1.xs is executed.  The else block is executed if all other if and elif comparisons return False.\n",
    "\n",
    "__Exercise 4.1__  \n",
    "Create two variables, course_percent and letter_grade. Assign the value 88 to course_percent.  Then create an if statement that assigns a value to letter_grade based on the value of course_percent as follows: A if course_percent > 93, A- if course_percent > 90, B+ if course_percent > 87, B if course_percent > 83... , D- if course_percent > 60, and otherwise F."
   ]
  },
  {
   "cell_type": "code",
   "execution_count": null,
   "metadata": {},
   "outputs": [],
   "source": [
    "course_percent = 88\n",
    "if course_percent >= 93:\n",
    "    letter_grade = 'A'\n",
    "elif course_percent >= 90:\n",
    "    letter_grade = 'A-'\n",
    "elif course_percent >= 87:\n",
    "    letter_grade = 'B+'\n",
    "elif course_percent >= 83:\n",
    "    letter_grade = 'B'\n",
    "elif course_percent >= 80:\n",
    "    letter_grade = 'B-'\n",
    "elif course_percent >= 77:\n",
    "    letter_grade = 'C+'\n",
    "elif course_percent >= 73:\n",
    "    letter_grade = 'C'\n",
    "elif course_percent >= 70:\n",
    "    letter_grade = 'C-'\n",
    "elif course_percent >= 67:\n",
    "    letter_grade = 'D+'\n",
    "elif course_percent >= 63:\n",
    "    letter_grade = 'D'\n",
    "elif course_percent >= 60:\n",
    "    letter_grade = 'D-'\n",
    "else:\n",
    "    letter_grade = 'F'\n",
    "  \n",
    "print(letter_grade)"
   ]
  },
  {
   "cell_type": "markdown",
   "metadata": {},
   "source": [
    "#### For Loops\n",
    "Loops are used to repeat tasks (the same code is executed zero to many times depending on the loop condition). Python for loops are designed specifically iterate over some type of iterable – typically lists or strings.  For example, a for loop can be used to do something with each element in a list, i.e., we loop over each element in an existing list.  In the most basic form, the for loop will access the value of each element in a list:\n",
    "  \n",
    "__Looping over Lists - Element Values__  \n",
    "for v in list_example:  \n",
    "&nbsp; &nbsp; &nbsp; print(v)  \n",
    "  \n",
    "In this example, v takes on the values of each element in the list_example list.  The print statement is then executed in each iteration (multiple lines of code that are all indented can also be used).  \n",
    "  \n",
    "__Looping over Lists - Index and Element Values__    \n",
    "It is also possible to get the index (and the value) of each element by using enumerate:  \n",
    "for i, v in enumerate(list_example):  \n",
    "&nbsp; &nbsp; &nbsp; print(i, v)\n",
    "\n",
    "When using enumerate, i contains the index and v contains the value of each element.\n",
    "\n",
    "__Looping a Specific Number of Times__  \n",
    "Alternatively, an iterable can be created with x number of elements to then have the loop repeated x number of times (as the loop iterates over the iterable). The range command is typically used for this, e.g.,:  \n",
    "for v in range (1000):  \n",
    "&nbsp; &nbsp; &nbsp; print(v)  \n",
    "    \n",
    "Range creates an iterable object (think list) that goes from 0 to 999.  The loop then iterates over all the elements in the range object with i taking on all the values of each element in the range.  A start value can also be given, i.e., range(start, stop) as can a step value, i.e., range(start, stop, step).  It is, however, not possible to only pass the stop and step parameter values to the range function. \n",
    "\n",
    "__Looping over a Dictionary__  \n",
    "A simple for loop, i.e., for k in dictionary_example, will loop over the keys in the dictionary, i.e., k will contain keys.  To also access the values, the following syntax is used:  \n",
    "for k, v in dictionary_example.items():  \n",
    "&nbsp; &nbsp; &nbsp;print('key:', k, 'and value: ', v)\n",
    "  \n",
    "__Exercise 4.2__  \n",
    "a. Create a loop that prints the values of all the elements in list_example.  \n",
    "b. Create a loop that doubles and prints all values that are integers, only print these integer values. Use the isinstance(object, type) function (which returns True if object is of specified type.    \n",
    "c. Create a loop that prints the index numbers and the values of all the elements in list_example, e.g., 0: 10 for the first element.  \n",
    "d. Create a loop that prints the index numbers and the values of all the elements in list_example with the value 10000.  \n",
    "e. Create a loop that prints the numbers 1 through 20.  \n",
    "f. Create a loop that prints the number 1 through 19 and only prints uneven numbers."
   ]
  },
  {
   "cell_type": "code",
   "execution_count": null,
   "metadata": {},
   "outputs": [],
   "source": [
    "#4.2.a\n",
    "for i in list_example:  \n",
    "    print(i)"
   ]
  },
  {
   "cell_type": "code",
   "execution_count": null,
   "metadata": {},
   "outputs": [],
   "source": [
    "#4.2.b\n",
    "for i in list_example:  \n",
    "    if isinstance(i, int):\n",
    "        print(i*2)"
   ]
  },
  {
   "cell_type": "code",
   "execution_count": null,
   "metadata": {},
   "outputs": [],
   "source": [
    "#4.2.c\n",
    "for i, v in enumerate(list_example):  \n",
    "  print(str(i) + \": \" + str(v))"
   ]
  },
  {
   "cell_type": "code",
   "execution_count": null,
   "metadata": {},
   "outputs": [],
   "source": [
    "#4.2.d\n",
    "for i, v in enumerate(list_example):  \n",
    "  if v == 10000:\n",
    "    print(str(i) + \": \" + str(v))"
   ]
  },
  {
   "cell_type": "code",
   "execution_count": null,
   "metadata": {},
   "outputs": [],
   "source": [
    "#4.2.e\n",
    "for i in range (1,21):  \n",
    "    print(i)"
   ]
  },
  {
   "cell_type": "code",
   "execution_count": null,
   "metadata": {},
   "outputs": [],
   "source": [
    "#4.2.f\n",
    "for i in range (1,20,2):  \n",
    "    print(i)"
   ]
  },
  {
   "cell_type": "markdown",
   "metadata": {},
   "source": [
    "__List Comprehension__  \n",
    "  \n",
    "_Overview_:\n",
    "- Combines for loops (over lists) and if statements.\n",
    "- Performance is better than using for loops (see additional noted below)\n",
    "- Generally considered better syntax – but I think they can at times be more difficult to understand (reading list comprehension from right to left makes them easier to understand)\n",
    "- Returns a list (but needs to be enclosed in square brackets)\n",
    "\n",
    "_General Syntax_:  \n",
    "- List comprehension with one if statement (the output expression and the if part are optional):  \n",
    "[output expression for_loop if condition]  \n",
    "  \n",
    "  \n",
    "- List comprehension with if-else statements (the if statement is before the loop and requires an else and output_1 is before the condition while output_2 is after the else):  \n",
    "[output_1 if condition_1 else output_2 for_loop]  \n",
    "  \n",
    "  \n",
    "- List comprehension with nested if statement (elif is created by embedding an if statement within the else part of the first if statement):  \n",
    "[output_1 if condition_1 else output_2 if condition_2 else output_3 for_loop]  \n",
    "  \n",
    "Performance Considerations When Working with Sequences  \n",
    "1. For best performance, use functions from Pandas or NumPy when possible\n",
    "2. If you must loop, use list comprehension (and list comprehension is generallypreferred over apply() and similar methods like map combined with lambda functions)\n",
    "3. Only use loops when list comprehension becomes too difficult to understand\n",
    "  \n",
    "__Exercise 4.3__   \n",
    "a. Rewrite 4.2.a as a list comprehension.  \n",
    "b. Rewrite 4.2.b as a list comprehension.  \n",
    "c. Double and return all integer values, return other values without modifying them."
   ]
  },
  {
   "cell_type": "code",
   "execution_count": null,
   "metadata": {},
   "outputs": [],
   "source": [
    "#4.3.a\n",
    "print([i for i in list_example])"
   ]
  },
  {
   "cell_type": "code",
   "execution_count": 325,
   "metadata": {},
   "outputs": [
    {
     "name": "stdout",
     "output_type": "stream",
     "text": [
      "[20, 200, 20000, 20000]\n"
     ]
    }
   ],
   "source": [
    "#4.3.b\n",
    "\n",
    "print([i*2 for i in list_example if isinstance(i, int)])"
   ]
  },
  {
   "cell_type": "code",
   "execution_count": 321,
   "metadata": {},
   "outputs": [
    {
     "name": "stdout",
     "output_type": "stream",
     "text": [
      "[20, 200, 20000, 'large', 'very_large', 'the largest', [101, 102], 20000]\n"
     ]
    }
   ],
   "source": [
    "#4.3.c\n",
    "\n",
    "print([i*2 if isinstance(i, int) else i for i in list_example])"
   ]
  },
  {
   "cell_type": "markdown",
   "metadata": {},
   "source": [
    "---  \n",
    "### Functions, Standard Libraries, and Packages and Modules"
   ]
  },
  {
   "cell_type": "markdown",
   "metadata": {},
   "source": [
    "#### Functions  \n",
    "_Definition_\n",
    "- reusable piece of code, \n",
    "- created to solve a specific problem, \n",
    "- two types: (1) built-in functions, e.g., print(), range(), min(), max(), etc., and (2) user defined functions\n",
    "\n",
    "_syntax_  \n",
    "def function_name(arguments):  \n",
    "&nbsp; indented_statement_1  \n",
    "&nbsp; indented_statement_2  \n",
    "&nbsp; ……  \n",
    "&nbsp; ……  \n",
    "&nbsp; return statement  \n",
    "  \n",
    "_arguments (see code below for example)_\n",
    "- can be optional (arguments with default values in the function definition) or required (arguments with no default values), e.g., **def add_numbers(number_1, number_2=10)**.  For optional arguments:\n",
    "  - if a value is specified when calling the function then the specified value will be used and otherwise the default value will be used. For example, if the function add_numbers is called using **add_numbers(3)** then the value 3 is assigned to number_1 and number_2 uses the default_value (i.e., 10).  If this function is instead called using **add_numbers(3,5)** then in addition to assigning the value 3 to number_1, 10 is assigned to number_2. \n",
    "  - any number of arguments in a function can have a default value, but once a function has a default argument, all the arguments to the right must also have default values, i.e., the following would generate an error: **def add_numbers(number_2=10, number_1):**\n",
    "   \n",
    "- positional and keyword arguments\n",
    "  - when a function is called, arguments can be assigned values in the order that the argument is defined or by keyword, e.g., **add_numbers(3,number_2=20)**\n",
    "  - keyword arguments must be positioned after positional arguments, i.e., the following would generate an error: **add_numbers(number_1=3,10)**\n",
    "  \n",
    "- \\* and \\*\\* arguments (often written as \\*args and \\*\\*kwargs) allows passing in multiple arguments.  When a function is called and values passed to a \\*argument, the values are typed one by one separated by a comma and then used as a tuple inside the function.  When a function is called and keys and values are passed to a \\** argument, each key and corresponding value are associated using an equal sign and each key-value pair is separated by a comma and then used as a dictionary inside the function.  While these variables are typically named args and kwargs, respectively, any name can be used.  For example **def calculate_numbers(number_1, number_2=10, \\*numbers_3_to_n, \\*\\*numbers_with_keys)**.  This function could then be called using calculate_numbers(3, 20, 10, 20, 7, minus=5, multiply=3), which would result in numbers_3_to_n = (10, 20, 7) and numbers_with_keys = {'minus': 10, 'multiply': 3}. "
   ]
  },
  {
   "cell_type": "code",
   "execution_count": null,
   "metadata": {},
   "outputs": [],
   "source": [
    "def add_numbers(number_1, number_2 = 10):\n",
    "    return(number_1 + number_2)\n",
    "\n",
    "print(add_numbers(1))\n",
    "print(add_numbers(1, 5))\n",
    "print(add_numbers(3, number_2 = 20))\n",
    "\n",
    "def calculate_numbers(number_1, number_2 = 10, *numbers_3_to_n, **numbers_with_keys):\n",
    "    print(numbers_3_to_n)\n",
    "    print(numbers_with_keys)\n",
    "    total = number_1 + number_2\n",
    "    for tuple_number in numbers_3_to_n:\n",
    "        total += tuple_number\n",
    "    \n",
    "    for operation, dictionary_number in numbers_with_keys.items():  \n",
    "        if operation == 'minus':\n",
    "            total -= dictionary_number\n",
    "        elif operation == 'multiply':     # additional elif would be needed if other types of operations could be performed\n",
    "            total *= dictionary_number\n",
    "    return total\n",
    "calculate_numbers(3, 20, 10, 20, 7, minus = 10, multiply = 3)"
   ]
  },
  {
   "cell_type": "markdown",
   "metadata": {},
   "source": [
    "__Exercises 5.1__  \n",
    "a. Use the code in exercise 4.1 and create a function that returns the grade of a student given a specific course percentage.  \n",
    "b. Create a list, course_scores, and populate the list with multiple scores, e.g., 86, 94, 80.  Use list comprehension to loop through each element in course_scores and convert each element to a course grade using the function created in 5.1.a.  \n",
    "c. Create a function that can take multiple student scores and returns the grade for all the scores.  \n",
    "d. Create a function that can take multiple student names and student scores and returns the grade for all the scores."
   ]
  },
  {
   "cell_type": "code",
   "execution_count": 322,
   "metadata": {},
   "outputs": [
    {
     "name": "stdout",
     "output_type": "stream",
     "text": [
      "B-\n",
      "A\n",
      "B\n"
     ]
    }
   ],
   "source": [
    "# 5.1.a\n",
    "def course_grade(course_percent):\n",
    "    if course_percent >= 93:\n",
    "        letter_grade = 'A'\n",
    "    elif course_percent >= 90:\n",
    "        letter_grade = 'A-'\n",
    "    elif course_percent >= 87:\n",
    "        letter_grade = 'B+'\n",
    "    elif course_percent >= 83:\n",
    "        letter_grade = 'B'\n",
    "    elif course_percent >= 80:\n",
    "        letter_grade = 'B-'\n",
    "    elif course_percent >= 77:\n",
    "        letter_grade = 'C+'\n",
    "    elif course_percent >= 73:\n",
    "        letter_grade = 'C'\n",
    "    elif course_percent >= 70:\n",
    "        letter_grade = 'C-'\n",
    "    elif course_percent >= 67:\n",
    "        letter_grade = 'D+'\n",
    "    elif course_percent >= 63:\n",
    "        letter_grade = 'D'\n",
    "    elif course_percent >= 60:\n",
    "        letter_grade = 'D-'\n",
    "    else:\n",
    "        letter_grade = 'F'\n",
    "    return letter_grade\n",
    "\n",
    "print(course_grade(80))\n",
    "print(course_grade(94))\n",
    "print(course_grade(86))"
   ]
  },
  {
   "cell_type": "code",
   "execution_count": 324,
   "metadata": {},
   "outputs": [
    {
     "name": "stdout",
     "output_type": "stream",
     "text": [
      "['B', 'A', 'B-']\n"
     ]
    }
   ],
   "source": [
    "# 5.1.b\n",
    "course_scores = [86, 94, 80]\n",
    "print([course_grade(score) for score in course_scores])\n"
   ]
  },
  {
   "cell_type": "code",
   "execution_count": null,
   "metadata": {},
   "outputs": [],
   "source": [
    "# 5.1.c\n",
    "def course_grade(*course_percentages):\n",
    "    letter_grade_list=[]\n",
    "    for course_percent in course_percentages:\n",
    "        if course_percent >= 93:\n",
    "            letter_grade = 'A'\n",
    "        elif course_percent >= 90:\n",
    "            letter_grade = 'A-'\n",
    "        elif course_percent >= 87:\n",
    "            letter_grade = 'B+'\n",
    "        elif course_percent >= 83:\n",
    "            letter_grade = 'B'\n",
    "        elif course_percent >= 80:\n",
    "            letter_grade = 'B-'\n",
    "        elif course_percent >= 77:\n",
    "            letter_grade = 'C+'\n",
    "        elif course_percent >= 73:\n",
    "            letter_grade = 'C'\n",
    "        elif course_percent >= 70:\n",
    "            letter_grade = 'C-'\n",
    "        elif course_percent >= 67:\n",
    "            letter_grade = 'D+'\n",
    "        elif course_percent >= 63:\n",
    "            letter_grade = 'D'\n",
    "        elif course_percent >= 60:\n",
    "            letter_grade = 'D-'\n",
    "        else:\n",
    "            letter_grade = 'F'\n",
    "        letter_grade_list.append(letter_grade)\n",
    "    return letter_grade_list\n",
    "\n",
    "print(course_grade(80, 94, 86))"
   ]
  },
  {
   "cell_type": "code",
   "execution_count": null,
   "metadata": {},
   "outputs": [],
   "source": [
    "# 5.1.d\n",
    "def course_grade(**student_course_percentages):\n",
    "    letter_grade_dictionary={}\n",
    "    for name, course_percent in student_course_percentages.items():\n",
    "        if course_percent >= 93:\n",
    "            letter_grade = 'A'\n",
    "        elif course_percent >= 90:\n",
    "            letter_grade = 'A-'\n",
    "        elif course_percent >= 87:\n",
    "            letter_grade = 'B+'\n",
    "        elif course_percent >= 83:\n",
    "            letter_grade = 'B'\n",
    "        elif course_percent >= 80:\n",
    "            letter_grade = 'B-'\n",
    "        elif course_percent >= 77:\n",
    "            letter_grade = 'C+'\n",
    "        elif course_percent >= 73:\n",
    "            letter_grade = 'C'\n",
    "        elif course_percent >= 70:\n",
    "            letter_grade = 'C-'\n",
    "        elif course_percent >= 67:\n",
    "            letter_grade = 'D+'\n",
    "        elif course_percent >= 63:\n",
    "            letter_grade = 'D'\n",
    "        elif course_percent >= 60:\n",
    "            letter_grade = 'D-'\n",
    "        else:\n",
    "            letter_grade = 'F'\n",
    "        letter_grade_dictionary[name] = letter_grade\n",
    "    return letter_grade_dictionary\n",
    "\n",
    "print(course_grade(Johan = 80, John = 94, Johannes = 86))\n"
   ]
  },
  {
   "cell_type": "markdown",
   "metadata": {},
   "source": [
    "##### Lambda Functions  \n",
    "Lambda functions are anonymous functions, i.e. functions without names, that are used where they are created (and typically only there). It is possible to assign a lambda function to a variable, which can then be used in subsequent code.  \n",
    "\n",
    "_General Syntax_  \n",
    "lambda argument_list: expression  \n",
    "  \n",
    "Argument_list is a comma separated list of arguments (arguments follow the same rules as regular expressions) and expression is an expression that uses these arguments. For example, _lambda x, y: x+y_ takes two arguments and then adds the two arguments together (which is returned by the function).  \n",
    "  \n",
    "To apply the function to an argument(s) you either (i) surround the function and the argument(s) with parentheses or (ii) you assign the function to a variable and then use the function like you would a regular function:  \n",
    "i)  \n",
    "(lambda x, y: x+y)(3,7)  \n",
    "  \n",
    "ii)   \n",
    "simple_addition = lambda x, y: x+y  \n",
    "simple_addition(3,7)  \n",
    "\n",
    "\n",
    "Lambda functions are typically used together with map() and filter() (and sometimes also the reduce function) to apply the lambda function to all elements in a sequence.  The Pandas function .apply() also works similarly to map().  While it is possible and preferable to use list comprehension instead of lambda expressions when applying operations to each element in a sequence (and when possible, even better to use NumPy and Pandas functions), you will see lambda functions used fairly frequently in practice. \n",
    "\n",
    "_map(function, iterable)_  \n",
    "The map() function applies the _function_ to every element in _iterable_ (typically a sequence) and returns an iterator that can be converted to a list using list().\n",
    "\n",
    "_filter(function, iterable)_  \n",
    "The filter() function returns each element in _iterable_ for which the _function_ returns true.\n",
    "\n",
    "__Exercises 5.2__  \n",
    "a. Create a lambda function that doubles integer values and leave all other values unmodified. Assign the lambda function to a variable named converter.  Test the function using 10 and then 'large' as argument values.\n",
    "b. Use map() to apply the converter function from 5.2.a on each element in list_example.  \n",
    "c. Use list comprehension instead of map() to use the converter function on each element in list_example.  \n",
    "d. Use filter() and a lambda function to create a list of all integer elements (and only these elements) in list_example.  \n",
    "e. Use list comprehension instead of filter() to create a list of all integer elements (and only these elements) in list_example."
   ]
  },
  {
   "cell_type": "code",
   "execution_count": null,
   "metadata": {},
   "outputs": [],
   "source": [
    "# 5.2.a\n",
    "converter = lambda x: x*2 if isinstance(x, int) else x\n",
    "print(converter(10))\n",
    "print(converter('large'))\n",
    "\n",
    "# 5.2.b\n",
    "print(list(map(converter, list_example)))\n",
    "\n",
    "# 5.2.c\n",
    "print([converter(i) for i in list_example])\n",
    "\n",
    "# 5.2.d\n",
    "print(list(filter(lambda x: isinstance(x, int), list_example)))\n",
    "\n",
    "# 5.2.e\n",
    "print([i for i in list_example if isinstance(i, int)])"
   ]
  },
  {
   "cell_type": "markdown",
   "metadata": {},
   "source": [
    "#### Standard Libraries  \n",
    "- Included in Python, but they do not do it all – packages are imported for functionality not provided by the standard library\n",
    "- Standard library functions: print(), min(), max(), etc.\n",
    "- Standard constants: False, True, None, etc.\n",
    "- Standard data types: int, float, bool, str\n",
    "- Standard file formats (that Python supports reading and writing): csv, excel, etc.\n",
    "\n",
    "#### Modules and Packages\n",
    "Packages are folders that contain one or more modules.  Modules are separate .py files that each contain one or more functions.\n",
    "  \n",
    "To use a non-standard function, the package that contains the function has to be imported.  It is possible to import the entire package, a specific module within a package, and even a specific function within a specific module. It is also possible to specify an alias (or the full name) to use when referencing the imported package/module/function.  There are two ways to import packages, import... as... and from... import... as... (see below for examples).  When using import... as..., each item except the last has to be a package and the last item can be either a package or module (but not a function).  When using from... import... as... the last item can be a package, module, or function.  The former is typically used to import entire packages and the latter is typically used to import specific functions.\n",
    "\n",
    "##### Importing Package (and using a function)\n",
    "Code to import:  \n",
    "import package_name as package_alias  \n",
    "  \n",
    "Code to use function:  \n",
    "package_alias.module_name.function_name  \n",
    "  \n",
    "##### Importing Specific Module (and using a function)\n",
    "Code to import:  \n",
    "import package_name.module_name as module_alias  \n",
    "  \n",
    "Code to use function:  \n",
    "module_alias.function_name  \n",
    "  \n",
    "##### Importing Specific Function (and using a function)\n",
    "Code to import:  \n",
    "from package_name.module_name import function_name as function_alias\n",
    "  \n",
    "Code to use function:  \n",
    "function_alias\n",
    "\n",
    "__Conventions__   \n",
    "To increase code readability, aliases are typically only used when it is customary to do so, e.g., when searching for help you will notice things like NumPy being referenced as np, Pandas as pd, StatsModels as sm, etc.  These aliases are fine because of how commonly they are used, but when a specific alias is not commonly used then using the alias can make it difficult to understand the code.  Similarly, it is generally recommended that packages are imported (or packages and modules) rather than specific functions and that dot notation is subsequently used in the code to reference a specific function. If a single function is imported (and dot notation is not used in the code), it can be difficult to know which package the function belongs to (and if this is unclear then it becomes more difficult to understand the code and to search for help about the function).  However, dot notation can also get very long which can also decrease code readability and increase the time it takes to write the code and the risk for typos.  How far to go with dot notation depends on what is customary for the specific package/module/function.  When I am unsure what is customary, I generally import packages/modules so that when I call a function I show one level above the function (which typically is the package) and I only occasionally use aliases."
   ]
  }
 ],
 "metadata": {
  "kernelspec": {
   "display_name": "Python 3",
   "language": "python",
   "name": "python3"
  },
  "language_info": {
   "codemirror_mode": {
    "name": "ipython",
    "version": 3
   },
   "file_extension": ".py",
   "mimetype": "text/x-python",
   "name": "python",
   "nbconvert_exporter": "python",
   "pygments_lexer": "ipython3",
   "version": "3.7.1"
  }
 },
 "nbformat": 4,
 "nbformat_minor": 2
}
